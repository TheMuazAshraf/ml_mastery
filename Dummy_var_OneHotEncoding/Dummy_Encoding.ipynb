{
 "cells": [
  {
   "cell_type": "markdown",
   "id": "c255c3fc",
   "metadata": {},
   "source": [
    "# **Categorical, Dummy Variables, One Hot Encoding**  \n",
    "  \n",
    "### Using  \n",
    "  \n",
    "## 1. pandas _get_dummies_  \n",
    "## 2. sklearn _OneHotEncode_"
   ]
  },
  {
   "cell_type": "markdown",
   "id": "013c6611",
   "metadata": {},
   "source": [
    "## **Dataset:**  \n",
    "  \n",
    "| town | area | price |\n",
    "|:--------------------:|:--------------------:|:--------------------:|\n",
    "| monroe township | 2600 | 550000 |\n",
    "| monroe township | 3000 | 565000 |\n",
    "| monroe township | 3200 | 610000 |\n",
    "| monroe township | 3600 | 680000 |\n",
    "| monroe township | 4000 | 725000 |\n",
    "| west windsor | 2600 | 585000 |\n",
    "| west windsor | 2800 | 615000 |\n",
    "| west windsor | 3300 | 650000 |\n",
    "| west windsor | 3600 | 710000 |\n",
    "| robbinsville | 2600 | 575000 |\n",
    "| robbinsville | 2900 | 600000 |\n",
    "| robbinsville | 3100 | 620000 |\n",
    "| robbinsville | 3600 | 695000 |"
   ]
  },
  {
   "cell_type": "markdown",
   "id": "edad0fc7",
   "metadata": {},
   "source": [
    "## **Task:**  \n",
    "  \n",
    "### Build a predictor function to predict price of a home:  \n",
    "  \n",
    "### 1. with 3400 sqr ft area in west windsor  \n",
    "  \n",
    "### 2. 2800 sqr ft home in robbinsville"
   ]
  },
  {
   "cell_type": "markdown",
   "id": "81dedb1f",
   "metadata": {},
   "source": [
    "## **Handling the text data:**  \n",
    "  \n",
    "We have to handle the first column of dataset which is in text format because ML model only works with numercial data.  \n",
    "  \n",
    "### Ways to do that:  \n",
    "  \n",
    "#### 1. Use Integer Encoding:  \n",
    "  \n",
    "Assign each variable to a specific integer.  \n",
    "  \n",
    "1 -> monroe township  \n",
    "  \n",
    "2 -> west windsor  \n",
    "  \n",
    "3 -> robbinsville  \n",
    "  \n",
    "The problem with this approach is that, the model will assume the numbers and it may make assumptions like:  \n",
    "  \n",
    "> monroe township > west windsor > robbinsville  \n",
    "  \n",
    "or  \n",
    "  \n",
    "> monroe township + west windsor = robbinsville"
   ]
  },
  {
   "cell_type": "markdown",
   "id": "27e320d8",
   "metadata": {},
   "source": [
    "## **Categorical Variables**  \n",
    "  \n",
    "The names of townships are called categorical variables.  \n",
    "  \n",
    "### Types of Categorical Variables:  \n",
    "  \n",
    "1. **Nominal:**  \n",
    "  \n",
    "The category don't have any numeric ordering between them. No order relationship between them.  \n",
    "  \n",
    "e.g.  \n",
    "  \n",
    "- male, Female  \n",
    "  \n",
    "- green, red, blue  \n",
    "  \n",
    "- monroe township, west windsor, robbinsville  \n",
    "  \n",
    "2. **Ordinal:**  \n",
    "  \n",
    "The category has specific order relationship between variables.  \n",
    "  \n",
    "e.g.  \n",
    "  \n",
    "- satisfied > neutral > dissatisfied  \n",
    "  \n",
    "- graduate < masters < phd  \n",
    "  \n",
    "- high > medium > low  "
   ]
  },
  {
   "cell_type": "markdown",
   "id": "4371bb0a",
   "metadata": {},
   "source": [
    "## **One Hot Encoding**  \n",
    "  \n",
    "Now we know that, we are using nominal type of categorical variable. To handle them we will use a technique called one hot encoding.  \n",
    "  \n",
    "One Hot Encoding works in way that it creates a sperate column for each variable in dataset and assign binary(0/1) value to each row. If the vairable is present in a rwo, the value will be True(1), if not the value will be False(0).  \n",
    "  \n",
    "> The **Dataset** will becomes:  \n",
    "  \n",
    "| town | area | price | monroe township | west windsor | robbinsville |\n",
    "|:--------------------:|:--------------------:|:--------------------:|:--------------------:|:--------------------:|:--------------------:|\n",
    "| monroe township | 2600 | 550000 | 1 | 0 | 0 |\n",
    "| monroe township | 3000 | 565000 | 1 | 0 | 0 |\n",
    "| monroe township | 3200 | 610000 | 1 | 0 | 0 |\n",
    "| monroe township | 3600 | 680000 | 1 | 0 | 0 |\n",
    "| monroe township | 4000 | 725000 | 1 | 0 | 0 |\n",
    "| west windsor | 2600 | 585000 | 0 | 1 | 0|\n",
    "| west windsor | 2800 | 615000 | 0 | 1 | 0|\n",
    "| west windsor | 3300 | 650000 | 0 | 1 | 0|\n",
    "| west windsor | 3600 | 710000 | 0 | 1 | 0|\n",
    "| robbinsville | 2600 | 575000 | 0 | 0 | 1 |\n",
    "| robbinsville | 2900 | 600000 | 0 | 0 | 1 |\n",
    "| robbinsville | 3100 | 620000 | 0 | 0 | 1 |\n",
    "| robbinsville | 3600 | 695000 | 0 | 0 | 1 |"
   ]
  },
  {
   "cell_type": "markdown",
   "id": "ec4f2899",
   "metadata": {},
   "source": [
    "> The extra variables which are created are called **Dummy Variables**"
   ]
  },
  {
   "cell_type": "markdown",
   "id": "fd7985aa",
   "metadata": {},
   "source": []
  }
 ],
 "metadata": {
  "language_info": {
   "name": "python"
  }
 },
 "nbformat": 4,
 "nbformat_minor": 5
}
