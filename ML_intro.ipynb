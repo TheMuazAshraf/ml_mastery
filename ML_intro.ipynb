{
 "cells": [
  {
   "cell_type": "markdown",
   "id": "32b5496e",
   "metadata": {},
   "source": [
    "# Machine Learning\n",
    "\n",
    "**\"Field of study that gives computer ability to learn without being explicitly programmed\"**  \n",
    "  \n",
    "or\n",
    "  \n",
    "**\"This is a set of techniques to make computers better at doing things that human (traditionally) can do better then machines\"**  \n",
    "  \n",
    "> Way to do that:  \n",
    ">> Make machines able to learn like humans do  \n",
    "  \n",
    "> Types of Machine Learning:\n",
    "> - Supervised Learning (mostly used)  \n",
    "> - Unsupervised Learning  \n",
    "> - Recommender Systems  \n",
    "> - Reinforcement Learning  \n",
    "  \n",
    "## Supervised Learning\n",
    "  \n",
    "**\"Refers to algorithms that learn input to output mapping\"**\n",
    "  \n",
    "> The algorithm is given some examples to learn from  \n",
    "> Examples:  \n",
    "\n",
    "| Input | Output |  \n",
    "|:----------:|:----------:|  \n",
    "| email | spam(1/0) |  \n",
    "| audio | transcript |  \n",
    "| English | Spanish |  \n",
    "\n",
    ">Algorithms:  \n",
    "> - **Classification**: Classify the output (1/0), (yes/no), (benign/malignant)\n",
    "> - **Regression**: Predict some data i.e. price etc\n",
    "  \n",
    "## Unsupervised Learning  \n",
    "  \n",
    "**\"Used to find something interesting in data. i.e. patterns etc.\"**  \n",
    "  \n",
    "> The data is not labeled\n",
    "  \n",
    "> Algorithms:\n",
    "> - **Clustering**: Groups similar data points\n",
    "> - **Anomaly Detection**: Find unusual data points\n",
    "> - **Dimensionalty Reduction**: Compress data"
   ]
  },
  {
   "cell_type": "markdown",
   "id": "556f050d",
   "metadata": {},
   "source": []
  }
 ],
 "metadata": {
  "kernelspec": {
   "display_name": "aienv",
   "language": "python",
   "name": "python3"
  },
  "language_info": {
   "name": "python",
   "version": "3.13.0"
  }
 },
 "nbformat": 4,
 "nbformat_minor": 5
}
